{
 "cells": [
  {
   "cell_type": "markdown",
   "metadata": {},
   "source": [
    "<img src=\"https://www.ikiam.edu.ec/img/logo-ikiam-grey.png\" width=300 height=240 />\n",
    "\n",
    "# EXAMEN PARCIAL PYTHON\n",
    "    \n",
    "\n",
    "## GBI6-2021II: BIOINFORMÁTICA\n",
    "\n",
    "**Apellidos, Nombres** <--- CAMBIE POR LOS QUE CORRESPONDA A SUS DATOS\n",
    "\n",
    "**18-02-2021**"
   ]
  },
  {
   "cell_type": "markdown",
   "metadata": {},
   "source": [
    "<font color='red'>NO AGREGUE NUEVAS CELDAS, UTILICE ÚNICAMENTE LAS QUE ESTÁN CREADAS</font>\n"
   ]
  },
  {
   "cell_type": "markdown",
   "metadata": {},
   "source": [
    "### REQUERIMIENTOS PARA EL EXAMEN\n",
    "Para este examen se requiere dos documentos: \n",
    "\n",
    "1. Archivo ```miningscience.py``` donde tendrá dos funciones:\n",
    "\n",
    "2. Archivo ```2021II_GBI6_ExamenParcialPython``` donde se llamará las funciones y se obtendrá resultados."
   ]
  },
  {
   "cell_type": "markdown",
   "metadata": {},
   "source": [
    "## Ejercicio 1 [2 puntos]\n",
    "Cree el archivo ```miningscience.py``` con las siguientes dosfunciones:\n",
    "    \n",
    "i. ```download_pubmed```: para descargar la data de PubMed utilizando el **ENTREZ** de Biopython. El parámetro de entrada para la función es el ```keyword```. \n",
    "    \n",
    "ii. ```mining_pubs```: esta función debe utilizar el módulo **re** y utilizar el párametro ```tipo``` para realizar lo siguiente:\n",
    "        \n",
    "* Si el tipo es \"DP\" recupera el año de publicación del artículo. El retorno es un *dataframe* con el **PMID** y el **DP_year**.\n",
    "      \n",
    "* Si el tipo es \"AU\" recupera el número de autores por **PMID**. El retorno es un *dataframe* con el **PMID** y el **num_auth**. \n",
    "      \n",
    "* Si el tipo es \"AD\" recupera el conteo de autores por país. El retorno es un *dataframe* con el **country** y el **num_auth**. \n",
    "\n",
    "* *Puede utilizar un ```if``` dentro de la función.* \n",
    "\n",
    "* *Cree un docstring para cada función.* \n",
    "\n",
    "Luego de crear las funciones, cargue el módulo ```miningscience``` como ```msc``` e imprima docstring de cada función.\n",
    "\n",
    "\n"
   ]
  },
  {
   "cell_type": "code",
   "execution_count": 2,
   "metadata": {},
   "outputs": [
    {
     "name": "stdout",
     "output_type": "stream",
     "text": [
      "Descripcion de la Funcion #1 \n",
      "Help on function download_pubmed in module miningscience:\n",
      "\n",
      "download_pubmed(keyword)\n",
      "\n",
      "Descripcion de la Funcion #2\n",
      "Help on function mining_pubs in module miningscience:\n",
      "\n",
      "mining_pubs(tipo)\n",
      "\n"
     ]
    }
   ],
   "source": [
    "%reload_ext autoreload\n",
    "%autoreload 2\n",
    "import importlib\n",
    "import miningscience\n",
    "importlib.reload(miningscience)\n",
    "import miningscience as msc\n",
    "\n",
    "\n",
    "print(\"Descripcion de la Funcion #1 \")\n",
    "help(msc.download_pubmed)\n",
    "print(\"Descripcion de la Funcion #2\")\n",
    "help(msc.mining_pubs)"
   ]
  },
  {
   "cell_type": "markdown",
   "metadata": {},
   "source": [
    "\n",
    "## Ejercicio 2 [1 punto]\n",
    "\n",
    "\n",
    "Utilice la función ```download_pubmed``` para descargar la data con el keyword ```Ecuador proteomics``` e imprima lo siguiente: \n",
    "\n",
    "```python\n",
    "'El número de artículos es: xx' # xx corresponde al número de artículos recuperados\n",
    "\n",
    "'El PMID del primer artículo es: xxxxxxxx' # xxxxxxxx corresponde al ID del artículo en PUDMED\n",
    "\n",
    "```"
   ]
  },
  {
   "cell_type": "code",
   "execution_count": 3,
   "metadata": {},
   "outputs": [
    {
     "name": "stdout",
     "output_type": "stream",
     "text": [
      "El número de artículos es: 190\n",
      "El PMID del primer artículo es: 35121084\n"
     ]
    }
   ],
   "source": [
    "# Escriba aquí su código para el ejercicio 2\n",
    "Articulos = msc.download_pubmed('Ecuador genomics')  \n",
    "print('El número de artículos es: '+       Articulos['RetMax'])    \n",
    "print('El PMID del primer artículo es: '+  Articulos['IdList'][0])\n"
   ]
  },
  {
   "cell_type": "markdown",
   "metadata": {},
   "source": [
    "## Ejercicio 3 [1 punto]\n",
    "\n",
    "Utilice la función ```mining_pubs``` para crear los siguientes dataframes: \n",
    "\n",
    "* pub_year\n",
    "\n",
    "* pub_authors\n",
    "\n",
    "* coutries\n",
    "\n",
    "Muestre los dos primeros y los dos últimos registros de cada dataframe. "
   ]
  },
  {
   "cell_type": "code",
   "execution_count": 4,
   "metadata": {},
   "outputs": [
    {
     "name": "stdout",
     "output_type": "stream",
     "text": [
      "Primeros y Ultimos dos registros de el dataset pub_year\n"
     ]
    },
    {
     "data": {
      "text/html": [
       "<div>\n",
       "<style scoped>\n",
       "    .dataframe tbody tr th:only-of-type {\n",
       "        vertical-align: middle;\n",
       "    }\n",
       "\n",
       "    .dataframe tbody tr th {\n",
       "        vertical-align: top;\n",
       "    }\n",
       "\n",
       "    .dataframe thead th {\n",
       "        text-align: right;\n",
       "    }\n",
       "</style>\n",
       "<table border=\"1\" class=\"dataframe\">\n",
       "  <thead>\n",
       "    <tr style=\"text-align: right;\">\n",
       "      <th></th>\n",
       "      <th>Pmid</th>\n",
       "      <th>DpYear</th>\n",
       "    </tr>\n",
       "  </thead>\n",
       "  <tbody>\n",
       "    <tr>\n",
       "      <th>0</th>\n",
       "      <td>35120121</td>\n",
       "      <td>2022 Feb</td>\n",
       "    </tr>\n",
       "    <tr>\n",
       "      <th>1</th>\n",
       "      <td>35064679</td>\n",
       "      <td>2022 Jan 22</td>\n",
       "    </tr>\n",
       "  </tbody>\n",
       "</table>\n",
       "</div>"
      ],
      "text/plain": [
       "       Pmid       DpYear\n",
       "0  35120121     2022 Feb\n",
       "1  35064679  2022 Jan 22"
      ]
     },
     "metadata": {},
     "output_type": "display_data"
    },
    {
     "data": {
      "text/html": [
       "<div>\n",
       "<style scoped>\n",
       "    .dataframe tbody tr th:only-of-type {\n",
       "        vertical-align: middle;\n",
       "    }\n",
       "\n",
       "    .dataframe tbody tr th {\n",
       "        vertical-align: top;\n",
       "    }\n",
       "\n",
       "    .dataframe thead th {\n",
       "        text-align: right;\n",
       "    }\n",
       "</style>\n",
       "<table border=\"1\" class=\"dataframe\">\n",
       "  <thead>\n",
       "    <tr style=\"text-align: right;\">\n",
       "      <th></th>\n",
       "      <th>Pmid</th>\n",
       "      <th>DpYear</th>\n",
       "    </tr>\n",
       "  </thead>\n",
       "  <tbody>\n",
       "    <tr>\n",
       "      <th>53</th>\n",
       "      <td>19844075</td>\n",
       "      <td>2010</td>\n",
       "    </tr>\n",
       "    <tr>\n",
       "      <th>54</th>\n",
       "      <td>19018989</td>\n",
       "      <td>2008 Sep</td>\n",
       "    </tr>\n",
       "  </tbody>\n",
       "</table>\n",
       "</div>"
      ],
      "text/plain": [
       "        Pmid    DpYear\n",
       "53  19844075      2010\n",
       "54  19018989  2008 Sep"
      ]
     },
     "metadata": {},
     "output_type": "display_data"
    },
    {
     "name": "stdout",
     "output_type": "stream",
     "text": [
      "Primeros y Ultimos dos registros de el dataset pub_authors\n"
     ]
    },
    {
     "data": {
      "text/html": [
       "<div>\n",
       "<style scoped>\n",
       "    .dataframe tbody tr th:only-of-type {\n",
       "        vertical-align: middle;\n",
       "    }\n",
       "\n",
       "    .dataframe tbody tr th {\n",
       "        vertical-align: top;\n",
       "    }\n",
       "\n",
       "    .dataframe thead th {\n",
       "        text-align: right;\n",
       "    }\n",
       "</style>\n",
       "<table border=\"1\" class=\"dataframe\">\n",
       "  <thead>\n",
       "    <tr style=\"text-align: right;\">\n",
       "      <th></th>\n",
       "      <th>Pmid</th>\n",
       "      <th>NrAutor</th>\n",
       "    </tr>\n",
       "  </thead>\n",
       "  <tbody>\n",
       "    <tr>\n",
       "      <th>0</th>\n",
       "      <td>35120121</td>\n",
       "      <td>14</td>\n",
       "    </tr>\n",
       "    <tr>\n",
       "      <th>1</th>\n",
       "      <td>35064679</td>\n",
       "      <td>7</td>\n",
       "    </tr>\n",
       "  </tbody>\n",
       "</table>\n",
       "</div>"
      ],
      "text/plain": [
       "       Pmid  NrAutor\n",
       "0  35120121       14\n",
       "1  35064679        7"
      ]
     },
     "metadata": {},
     "output_type": "display_data"
    },
    {
     "data": {
      "text/html": [
       "<div>\n",
       "<style scoped>\n",
       "    .dataframe tbody tr th:only-of-type {\n",
       "        vertical-align: middle;\n",
       "    }\n",
       "\n",
       "    .dataframe tbody tr th {\n",
       "        vertical-align: top;\n",
       "    }\n",
       "\n",
       "    .dataframe thead th {\n",
       "        text-align: right;\n",
       "    }\n",
       "</style>\n",
       "<table border=\"1\" class=\"dataframe\">\n",
       "  <thead>\n",
       "    <tr style=\"text-align: right;\">\n",
       "      <th></th>\n",
       "      <th>Pmid</th>\n",
       "      <th>NrAutor</th>\n",
       "    </tr>\n",
       "  </thead>\n",
       "  <tbody>\n",
       "    <tr>\n",
       "      <th>51</th>\n",
       "      <td>24823669</td>\n",
       "      <td>8</td>\n",
       "    </tr>\n",
       "    <tr>\n",
       "      <th>52</th>\n",
       "      <td>24342523</td>\n",
       "      <td>2</td>\n",
       "    </tr>\n",
       "  </tbody>\n",
       "</table>\n",
       "</div>"
      ],
      "text/plain": [
       "        Pmid  NrAutor\n",
       "51  24823669        8\n",
       "52  24342523        2"
      ]
     },
     "metadata": {},
     "output_type": "display_data"
    },
    {
     "name": "stdout",
     "output_type": "stream",
     "text": [
      "Primeros y Ultimos dos registros de el dataset coutries\n"
     ]
    },
    {
     "data": {
      "text/html": [
       "<div>\n",
       "<style scoped>\n",
       "    .dataframe tbody tr th:only-of-type {\n",
       "        vertical-align: middle;\n",
       "    }\n",
       "\n",
       "    .dataframe tbody tr th {\n",
       "        vertical-align: top;\n",
       "    }\n",
       "\n",
       "    .dataframe thead th {\n",
       "        text-align: right;\n",
       "    }\n",
       "</style>\n",
       "<table border=\"1\" class=\"dataframe\">\n",
       "  <thead>\n",
       "    <tr style=\"text-align: right;\">\n",
       "      <th></th>\n",
       "      <th>Country</th>\n",
       "      <th>NrAutor</th>\n",
       "    </tr>\n",
       "  </thead>\n",
       "  <tbody>\n",
       "    <tr>\n",
       "      <th>0</th>\n",
       "      <td>United States</td>\n",
       "      <td>14</td>\n",
       "    </tr>\n",
       "    <tr>\n",
       "      <th>1</th>\n",
       "      <td>England</td>\n",
       "      <td>7</td>\n",
       "    </tr>\n",
       "  </tbody>\n",
       "</table>\n",
       "</div>"
      ],
      "text/plain": [
       "         Country  NrAutor\n",
       "0  United States       14\n",
       "1        England        7"
      ]
     },
     "metadata": {},
     "output_type": "display_data"
    },
    {
     "data": {
      "text/html": [
       "<div>\n",
       "<style scoped>\n",
       "    .dataframe tbody tr th:only-of-type {\n",
       "        vertical-align: middle;\n",
       "    }\n",
       "\n",
       "    .dataframe tbody tr th {\n",
       "        vertical-align: top;\n",
       "    }\n",
       "\n",
       "    .dataframe thead th {\n",
       "        text-align: right;\n",
       "    }\n",
       "</style>\n",
       "<table border=\"1\" class=\"dataframe\">\n",
       "  <thead>\n",
       "    <tr style=\"text-align: right;\">\n",
       "      <th></th>\n",
       "      <th>Country</th>\n",
       "      <th>NrAutor</th>\n",
       "    </tr>\n",
       "  </thead>\n",
       "  <tbody>\n",
       "    <tr>\n",
       "      <th>52</th>\n",
       "      <td>England</td>\n",
       "      <td>2</td>\n",
       "    </tr>\n",
       "    <tr>\n",
       "      <th>53</th>\n",
       "      <td>Switzerland</td>\n",
       "      <td>7</td>\n",
       "    </tr>\n",
       "  </tbody>\n",
       "</table>\n",
       "</div>"
      ],
      "text/plain": [
       "        Country  NrAutor\n",
       "52      England        2\n",
       "53  Switzerland        7"
      ]
     },
     "metadata": {},
     "output_type": "display_data"
    }
   ],
   "source": [
    "# Escriba aquí su código para el ejercicio 3\n",
    "\n",
    "#Creando las DataSets \n",
    "pub_year = msc.mining_pubs('DP')\n",
    "coutries = msc.mining_pubs('AD')\n",
    "pub_authors = msc.mining_pubs('AU') \n",
    "\n",
    "print('Primeros y Ultimos dos registros de el dataset pub_year')\n",
    "display(pub_year.head(2)) \n",
    "display(pub_year.tail(2))\n",
    "\n",
    "print('Primeros y Ultimos dos registros de el dataset pub_authors')\n",
    "display(pub_authors.head(2))\n",
    "display(pub_authors.tail(2))\n",
    "\n",
    "print('Primeros y Ultimos dos registros de el dataset coutries')\n",
    "display(coutries.head(2))\n",
    "display(coutries.tail(2))\n"
   ]
  },
  {
   "cell_type": "markdown",
   "metadata": {
    "jp-MarkdownHeadingCollapsed": true,
    "tags": []
   },
   "source": [
    "## Ejercicio 4 [2 puntos]\n",
    "\n",
    "Realice la visualización de los datos del ejercicio 3. \n",
    "\n",
    "* ```pubyear```: utilizando el conteo artículos por año, calcule la media y la desviación estandar (asumiendo que la distribución es normal). Realice un gráfico de la distribución normal de sus datos. Coloque el título, leyenda de los ejes \"x\" e \"y\", y la leyenda de la curva (utilice las expresiones matemáticas tipos latex de ser necesario). \n",
    "\n",
    "* ```pub_authors```: realice un boxplot del conteo de autores por artículo. Coloque las leyendas adecuadas para cada eje y el título.  \n",
    "\n",
    "* ```countries```: realice una nube de puntos (adaptación de su tarea), resalte al menos 3 países con flechas. Coloque las leyendas adecuadas para cada eje y el título. \n"
   ]
  },
  {
   "cell_type": "code",
   "execution_count": 5,
   "metadata": {},
   "outputs": [
    {
     "name": "stdout",
     "output_type": "stream",
     "text": [
      "La media es de 4.583333333333333 con una desviacion estandar de 4.581749037477309\n"
     ]
    },
    {
     "data": {
      "image/png": "[encoded data removed]",
      "text/plain": [
       "<Figure size 576x576 with 1 Axes>"
      ]
     },
     "metadata": {
      "needs_background": "light"
     },
     "output_type": "display_data"
    },
    {
     "data": {
      "image/png": "[encoded data removed]",
      "text/plain": [
       "<Figure size 576x576 with 1 Axes>"
      ]
     },
     "metadata": {
      "needs_background": "light"
     },
     "output_type": "display_data"
    },
    {
     "name": "stdout",
     "output_type": "stream",
     "text": [
      "    country   latitude  longitude           name\n",
      "40       CH  46.818188   8.227512    Switzerland\n",
      "53       DE  51.165691  10.451526        Germany\n",
      "162      NL  52.132633   5.291266    Netherlands\n",
      "227      US  37.090240 -95.712891  United States\n"
     ]
    },
    {
     "data": {
      "image/png": "[encoded data removed]",
      "text/plain": [
       "<Figure size 648x648 with 2 Axes>"
      ]
     },
     "metadata": {
      "needs_background": "light"
     },
     "output_type": "display_data"
    }
   ],
   "source": [
    "# Escriba aquí su código para el ejercicio 4\n",
    "#importamos los librerias \n",
    "import matplotlib.pyplot as plt \n",
    "import matplotlib as mpl\n",
    "from scipy.stats import norm \n",
    "import numpy as np \n",
    "import statistics \n",
    "import pandas as pd\n",
    "\n",
    "pub_year['Autores'] = pd.to_datetime(pub_year['DpYear'], infer_datetime_format=True)\n",
    "\n",
    "FechasLista =  pub_year['Autores'].dt.strftime('%Y')\n",
    "\n",
    "FechasLista =  pd.DataFrame(FechasLista, columns = ['Autores'])\n",
    "FechasLista =  pd.DataFrame(FechasLista[\"Autores\"].value_counts())\n",
    "FechasFiltro = pd.DataFrame(FechasLista.rename_axis(columns=\"DpYear\"))\n",
    "\n",
    "#MEDIA Y DESVIACION ESTANDAR\n",
    "DesviacionEstandar = FechasFiltro.Autores.std()\n",
    "CalculoMedia =       FechasFiltro['Autores'].mean()\n",
    "ListaDatos=          list(FechasFiltro['Autores'])\n",
    "\n",
    "fig, axu = plt.subplots(figsize=(10, 10))\n",
    "x_axis=    list(FechasFiltro['Autores'])\n",
    "axu.set_title('Distribucion Normal')\n",
    "Grafico1, = axu.plot(x_axis, norm.pdf(ListaDatos, CalculoMedia, DesviacionEstandar), 'C1', label='Distribucion')\n",
    "plt.xlabel(\"Observaciones\")\n",
    "plt.ylabel(\"Probabilidad\")\n",
    "axu.legend(handles=[Grafico1])\n",
    "GraficaParametros = plt.gcf()\n",
    "plSize = GraficaParametros.get_size_inches()\n",
    "GraficaParametros.set_size_inches( 8, 8)\n",
    "\n",
    "print(\"La media es de \"+ str(CalculoMedia)+\" con una desviacion estandar de \"+ str(DesviacionEstandar))\n",
    "#FIGURA NR 2\n",
    "GraficaCountries=list(pub_authors['NrAutor'])\n",
    "fig = plt.figure(figsize =(8, 8)) \n",
    "plt.title(\"Grafica de Box Plot\")\n",
    "plt.xlabel(\"Publicaciones\")\n",
    "plt.ylabel(\"Conteo de Autores\")\n",
    "plt.boxplot(GraficaCountries)\n",
    "plt.show()\n",
    "#LONGITUDES Y LATITUDES\n",
    "ListaContinentes = coutries['Country'].tolist()\n",
    "ListaFiltrada = list() \n",
    "for continente in ListaContinentes:\n",
    "    if continente not in ListaFiltrada:\n",
    "        ListaFiltrada.append(continente)  \n",
    "#EXPORTACION DEL CSV COUNTRIES PARA LA OBTENCION DE LATITUDES Y LONGITUDES     \n",
    "Latidud = pd.read_csv('./data/countries.csv', engine='python')\n",
    "DataFinal = Latidud[Latidud.name.isin(ListaFiltrada)]\n",
    "print(DataFinal)\n",
    "#CREACION GRAFICA 3\n",
    "plt.scatter(DataFinal.longitude, DataFinal.latitude, c=DataFinal.latitude)\n",
    "plt.colorbar()\n",
    "#NOMBRE PAISES\n",
    "ard = dict(arrowstyle=\"->\")\n",
    "plt.annotate('USA', xy = (-95.712891, 37.09024),xytext = (-90, 38), arrowprops = ard)\n",
    "plt.annotate('Netherlands', xy = (5.291266, 52.132633),xytext = (-12, 51), arrowprops = ard)\n",
    "plt.annotate('Germany', xy = (10.451526 , 51.165691),xytext = (-13, 50), arrowprops = ard)\n",
    "#CREACION DE ETIQUETAS\n",
    "plt.title(\"Puntos\")\n",
    "plt.xlabel(\"Latitud\")\n",
    "plt.ylabel(\"Longitud\")\n",
    "\n",
    "GraficaParametros = plt.gcf()\n",
    "plSize = GraficaParametros.get_size_inches()\n",
    "GraficaParametros.set_size_inches( 9, 9 )\n"
   ]
  },
  {
   "cell_type": "markdown",
   "metadata": {},
   "source": [
    "## Ejercicio 5 [1 punto]\n",
    "\n",
    "Interprete los resultados del **ejercicio 4**"
   ]
  },
  {
   "cell_type": "markdown",
   "metadata": {},
   "source": [
    "### Escriba la respuesta del ejercicio 5\n"
   ]
  },
  {
   "cell_type": "markdown",
   "metadata": {},
   "source": [
    "## Ejercicio 6 [2 puntos]\n",
    "\n",
    "Para algún gen de interés, realice lo siguiente: \n",
    "\n",
    "1. Una búsqueda en la página del [NCBI nucleotide](https://www.ncbi.nlm.nih.gov/nucleotide/).\n",
    "\n",
    "2. Descargue el ```Accession List``` de su búsqueda.\n",
    "\n",
    "3. Cargue el ```Accession List``` en este notebook y haga una descarga de la data tipo ```genbank``` utilizando los diez primeros IDs de accesión. \n",
    "\n",
    "4. Arme un árbol filogenético para los resultados del paso 3.\n",
    "\n",
    "5. Interprete el árbol del paso 4. "
   ]
  },
  {
   "cell_type": "code",
   "execution_count": null,
   "metadata": {},
   "outputs": [],
   "source": [
    "\n"
   ]
  },
  {
   "cell_type": "markdown",
   "metadata": {},
   "source": [
    "**Escriba aquí la interpretación del árbol**"
   ]
  },
  {
   "cell_type": "markdown",
   "metadata": {},
   "source": [
    "## Ejercicio 7 [1 punto]\n",
    "\n",
    "\n",
    "1. Cree en GitHub un repositorio de nombre ```GBI6_ExamenPython```. \n",
    "2. Cree un archivo ```Readme.md``` que debe tener lo siguiente: \n",
    "- Datos personales\n",
    "- Características del computador\n",
    "- Versión de Python/Anaconda y de cada uno de los módulos/paquetes y utilizados\n",
    "- Explicación de la data utilizada\n",
    "\n",
    "3. Cree un directorio de nombre ```data``` donde deben estar guardado la data utilizada \n",
    "4. Realice al menos 1 control de la versión (commits) por cada ejercicio (del 1 al 6), con un mensaje que inicie como: \n",
    "\n",
    "```sh \n",
    "Carlitos Alimaña ha realizado .....  \n",
    "```"
   ]
  }
 ],
 "metadata": {
  "kernelspec": {
   "display_name": "Python 3",
   "language": "python",
   "name": "python3"
  },
  "language_info": {
   "codemirror_mode": {
    "name": "ipython",
    "version": 3
   },
   "file_extension": ".py",
   "mimetype": "text/x-python",
   "name": "python",
   "nbconvert_exporter": "python",
   "pygments_lexer": "ipython3",
   "version": "3.8.8"
  },
  "latex_envs": {
   "LaTeX_envs_menu_present": true,
   "autoclose": false,
   "autocomplete": true,
   "bibliofile": "biblio.bib",
   "cite_by": "apalike",
   "current_citInitial": 1,
   "eqLabelWithNumbers": true,
   "eqNumInitial": 1,
   "hotkeys": {
    "equation": "Ctrl-E",
    "itemize": "Ctrl-I"
   },
   "labels_anchors": false,
   "latex_user_defs": false,
   "report_style_numbering": false,
   "user_envs_cfg": false
  },
  "toc": {
   "base_numbering": 1,
   "nav_menu": {},
   "number_sections": true,
   "sideBar": false,
   "skip_h1_title": false,
   "title_cell": "Table of Contents",
   "title_sidebar": "Contents",
   "toc_cell": false,
   "toc_position": {
    "height": "1152.67px",
    "left": "41px",
    "top": "110px",
    "width": "253.458px"
   },
   "toc_section_display": true,
   "toc_window_display": false
  },
  "varInspector": {
   "cols": {
    "lenName": 16,
    "lenType": 16,
    "lenVar": 40
   },
   "kernels_config": {
    "python": {
     "delete_cmd_postfix": "",
     "delete_cmd_prefix": "del ",
     "library": "var_list.py",
     "varRefreshCmd": "print(var_dic_list())"
    },
    "r": {
     "delete_cmd_postfix": ") ",
     "delete_cmd_prefix": "rm(",
     "library": "var_list.r",
     "varRefreshCmd": "cat(var_dic_list()) "
    }
   },
   "types_to_exclude": [
    "module",
    "function",
    "builtin_function_or_method",
    "instance",
    "_Feature"
   ],
   "window_display": false
  }
 },
 "nbformat": 4,
 "nbformat_minor": 4
}
